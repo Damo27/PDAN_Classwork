{
 "cells": [
  {
   "cell_type": "code",
   "execution_count": 6,
   "metadata": {},
   "outputs": [],
   "source": [
    "import numpy as np"
   ]
  },
  {
   "cell_type": "markdown",
   "metadata": {},
   "source": [
    "# NumPy (Numerical Python): Python library for numerical computing.\n",
    "\n",
    "It provides:\n",
    "\n",
    "N-Dimensional Arrays – Efficient and powerful array objects (ndarray) for numerical data.\n",
    "\n",
    "Mathematical Operations – Fast element-wise operations, including addition, subtraction, multiplication, and division.\n",
    "\n",
    "Linear Algebra – Matrix multiplication, dot products, eigenvalues, etc.\n",
    "\n",
    "Random Number Generation – Generating random numbers from various distributions.\n",
    "\n",
    "Statistical Functions – Mean, median, standard deviation, and more.\n",
    "\n",
    "Broadcasting – Performing operations on arrays of different shapes."
   ]
  },
  {
   "cell_type": "markdown",
   "metadata": {},
   "source": [
    "Why Use NumPy?\n",
    "\n",
    "Performance: NumPy arrays are faster and more memory-efficient than Python lists.\n",
    "\n",
    "Convenience: It provides many useful functions for numerical operations.\n",
    "\n",
    "Integration: Widely used in scientific computing libraries like SciPy, Pandas, and scikit-learn."
   ]
  },
  {
   "cell_type": "code",
   "execution_count": 7,
   "metadata": {},
   "outputs": [
    {
     "name": "stdout",
     "output_type": "stream",
     "text": [
      "1D Array: [1 2 3 4 5]\n"
     ]
    }
   ],
   "source": [
    "# Create a 1D array\n",
    "arr1 = np.array([1, 2, 3, 4, 5])\n",
    "print(\"1D Array:\", arr1)"
   ]
  },
  {
   "cell_type": "code",
   "execution_count": 8,
   "metadata": {},
   "outputs": [
    {
     "name": "stdout",
     "output_type": "stream",
     "text": [
      "2D Array:\n",
      " [[1 2 3]\n",
      " [4 5 6]]\n"
     ]
    }
   ],
   "source": [
    "# Create a 2D array\n",
    "arr2 = np.array([[1, 2, 3], \n",
    "                 [4, 5, 6]])\n",
    "print(\"2D Array:\\n\", arr2)"
   ]
  },
  {
   "cell_type": "code",
   "execution_count": 9,
   "metadata": {},
   "outputs": [
    {
     "name": "stdout",
     "output_type": "stream",
     "text": [
      "Sum Array: [11 12 13 14 15]\n"
     ]
    }
   ],
   "source": [
    "# Element-wise addition\n",
    "sum_arr = arr1 + 10\n",
    "print(\"Sum Array:\", sum_arr)"
   ]
  },
  {
   "cell_type": "code",
   "execution_count": 10,
   "metadata": {},
   "outputs": [
    {
     "name": "stdout",
     "output_type": "stream",
     "text": [
      "Matrix Product: [14 32]\n"
     ]
    }
   ],
   "source": [
    "# Matrix multiplication\n",
    "product = np.dot(arr2, arr1[:3])\n",
    "print(\"Matrix Product:\", product)"
   ]
  }
 ],
 "metadata": {
  "kernelspec": {
   "display_name": "Python 3",
   "language": "python",
   "name": "python3"
  },
  "language_info": {
   "codemirror_mode": {
    "name": "ipython",
    "version": 3
   },
   "file_extension": ".py",
   "mimetype": "text/x-python",
   "name": "python",
   "nbconvert_exporter": "python",
   "pygments_lexer": "ipython3",
   "version": "3.13.2"
  }
 },
 "nbformat": 4,
 "nbformat_minor": 2
}
