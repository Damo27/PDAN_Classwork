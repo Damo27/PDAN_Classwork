{
  "nbformat": 4,
  "nbformat_minor": 0,
  "metadata": {
    "colab": {
      "provenance": [],
      "authorship_tag": "ABX9TyPewxf/J7ZHCkRX7fH3GY6S",
      "include_colab_link": true
    },
    "kernelspec": {
      "name": "python3",
      "display_name": "Python 3"
    },
    "language_info": {
      "name": "python"
    }
  },
  "cells": [
    {
      "cell_type": "markdown",
      "metadata": {
        "id": "view-in-github",
        "colab_type": "text"
      },
      "source": [
        "<a href=\"https://colab.research.google.com/github/Damo27/PDAN_Classwork/blob/main/LU2/KfoldCV.ipynb\" target=\"_parent\"><img src=\"https://colab.research.google.com/assets/colab-badge.svg\" alt=\"Open In Colab\"/></a>"
      ]
    },
    {
      "cell_type": "code",
      "execution_count": 7,
      "metadata": {
        "id": "SzlJ1YAhqH6P"
      },
      "outputs": [],
      "source": [
        "from sklearn.model_selection import KFold, cross_val_score\n",
        "from sklearn.ensemble import RandomForestClassifier\n",
        "from sklearn.datasets import load_iris\n",
        "import numpy as np"
      ]
    },
    {
      "cell_type": "code",
      "source": [
        "# Load the Iris dataset\n",
        "data = load_iris()\n",
        "X, y = data.data, data.target"
      ],
      "metadata": {
        "id": "XGIzapGTqVst"
      },
      "execution_count": 8,
      "outputs": []
    },
    {
      "cell_type": "code",
      "source": [
        "# Define K-Folds Cross-Validation with K=5\n",
        "kf = KFold(n_splits=5, shuffle=True, random_state=42)"
      ],
      "metadata": {
        "id": "itlG3a31qW1F"
      },
      "execution_count": 9,
      "outputs": []
    },
    {
      "cell_type": "markdown",
      "source": [
        "Define K-Folds:\n",
        "\n",
        "KFold(n_splits=5, shuffle=True, random_state=42)\n",
        "\n",
        "n_splits=5: Splits the dataset into 5 folds.\n",
        "\n",
        "shuffle=True: Ensures randomness in splitting the dataset.\n",
        "\n",
        "random_state=42: Ensures reproducibility."
      ],
      "metadata": {
        "id": "pC37K9j5qwwO"
      }
    },
    {
      "cell_type": "code",
      "source": [
        "# Initialize the model (Random Forest Classifier)\n",
        "model = RandomForestClassifier(n_estimators=100, random_state=42)"
      ],
      "metadata": {
        "id": "WCUlOXnoqX4l"
      },
      "execution_count": 10,
      "outputs": []
    },
    {
      "cell_type": "markdown",
      "source": [
        "Initialize the Model:\n",
        "\n",
        "RandomForestClassifier(n_estimators=100, random_state=42)\n",
        "Using 100 decision trees in the random forest."
      ],
      "metadata": {
        "id": "YRMRqGApq4jl"
      }
    },
    {
      "cell_type": "code",
      "source": [
        "# Perform Cross-Validation\n",
        "scores = cross_val_score(model, X, y, cv=kf)"
      ],
      "metadata": {
        "id": "tSsjBjAaqbgX"
      },
      "execution_count": 11,
      "outputs": []
    },
    {
      "cell_type": "markdown",
      "source": [
        "Perform Cross-Validation:\n",
        "\n",
        "cross_val_score(model, X, y, cv=kf): Trains and evaluates the model on 5 different folds."
      ],
      "metadata": {
        "id": "yoZUhDgMq-wC"
      }
    },
    {
      "cell_type": "code",
      "source": [
        "# Print individual fold accuracies and mean accuracy\n",
        "print(\"Cross-validation scores for each fold:\", scores)\n",
        "print(\"Mean Accuracy:\", np.mean(scores))\n",
        "print(\"Standard Deviation:\", np.std(scores))"
      ],
      "metadata": {
        "colab": {
          "base_uri": "https://localhost:8080/"
        },
        "id": "6ZWWXwr-qdOg",
        "outputId": "16f8ced6-08f3-47a5-a43a-2aaa66f4d326"
      },
      "execution_count": 12,
      "outputs": [
        {
          "output_type": "stream",
          "name": "stdout",
          "text": [
            "Cross-validation scores for each fold: [1.         0.96666667 0.93333333 0.93333333 0.96666667]\n",
            "Mean Accuracy: 0.9600000000000002\n",
            "Standard Deviation: 0.024944382578492935\n"
          ]
        }
      ]
    },
    {
      "cell_type": "code",
      "source": [],
      "metadata": {
        "id": "62DUN4kWqetl"
      },
      "execution_count": 12,
      "outputs": []
    }
  ]
}